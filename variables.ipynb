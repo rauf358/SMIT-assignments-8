{
 "cells": [
  {
   "cell_type": "markdown",
   "id": "21eaa5f7",
   "metadata": {},
   "source": [
    "## Area of a Rectangle"
   ]
  },
  {
   "cell_type": "code",
   "execution_count": null,
   "id": "31ef2a9e",
   "metadata": {},
   "outputs": [],
   "source": [
    "\n",
    "# Program to calculate the area of a rectangle\n",
    "length = float(input(\"Enter the length of the rectangle: \"))\n",
    "width = float(input(\"Enter the width of the rectangle: \"))\n",
    "area = length * width\n",
    "print(\"The area of the rectangle is:\", area)\n"
   ]
  },
  {
   "cell_type": "markdown",
   "id": "ba0b11a3",
   "metadata": {},
   "source": [
    "## Circumference of a Circle"
   ]
  },
  {
   "cell_type": "code",
   "execution_count": null,
   "id": "4d33736c",
   "metadata": {},
   "outputs": [],
   "source": [
    "\n",
    "# Program to calculate the circumference of a circle\n",
    "import math\n",
    "radius = float(input(\"Enter the radius of the circle: \"))\n",
    "circumference = 2 * math.pi * radius\n",
    "print(\"The circumference of the circle is:\", circumference)\n"
   ]
  },
  {
   "cell_type": "markdown",
   "id": "6d41c834",
   "metadata": {},
   "source": [
    "## Simple Interest"
   ]
  },
  {
   "cell_type": "code",
   "execution_count": null,
   "id": "8ac8e9b7",
   "metadata": {},
   "outputs": [],
   "source": [
    "\n",
    "# Program to calculate simple interest\n",
    "principal = float(input(\"Enter the principal amount: \"))\n",
    "rate = float(input(\"Enter the rate of interest: \"))\n",
    "time = float(input(\"Enter the time in years: \"))\n",
    "simple_interest = (principal * rate * time) / 100\n",
    "print(\"The simple interest is:\", simple_interest)\n"
   ]
  },
  {
   "cell_type": "markdown",
   "id": "db616c84",
   "metadata": {},
   "source": [
    "## Speed of an Object"
   ]
  },
  {
   "cell_type": "code",
   "execution_count": null,
   "id": "c56fc1d5",
   "metadata": {},
   "outputs": [],
   "source": [
    "\n",
    "# Program to calculate the speed of an object\n",
    "distance = float(input(\"Enter the distance traveled (in meters): \"))\n",
    "time = float(input(\"Enter the time taken (in seconds): \"))\n",
    "speed = distance / time\n",
    "print(\"The speed of the object is:\", speed, \"m/s\")\n"
   ]
  },
  {
   "cell_type": "markdown",
   "id": "d46536a0",
   "metadata": {},
   "source": [
    "## BMI Calculator"
   ]
  },
  {
   "cell_type": "code",
   "execution_count": null,
   "id": "6931d9f6",
   "metadata": {},
   "outputs": [],
   "source": [
    "\n",
    "# Program to calculate BMI\n",
    "weight = float(input(\"Enter your weight in kilograms: \"))\n",
    "height = float(input(\"Enter your height in meters: \"))\n",
    "bmi = weight / (height ** 2)\n",
    "print(\"Your Body Mass Index (BMI) is:\", bmi)\n"
   ]
  },
  {
   "cell_type": "markdown",
   "id": "efa1ea9e",
   "metadata": {},
   "source": [
    "## Force Using Newton's Second Law"
   ]
  },
  {
   "cell_type": "code",
   "execution_count": null,
   "id": "e3592a74",
   "metadata": {},
   "outputs": [],
   "source": [
    "\n",
    "# Program to calculate force using Newton's Second Law\n",
    "mass = float(input(\"Enter the mass of the object (in kilograms): \"))\n",
    "acceleration = float(input(\"Enter the acceleration (in meters/second²): \"))\n",
    "force = mass * acceleration\n",
    "print(\"The force on the object is:\", force, \"Newtons\")\n"
   ]
  },
  {
   "cell_type": "markdown",
   "id": "8b18f336",
   "metadata": {},
   "source": [
    "## Compound Interest"
   ]
  },
  {
   "cell_type": "code",
   "execution_count": null,
   "id": "813a6e81",
   "metadata": {},
   "outputs": [],
   "source": [
    "\n",
    "# Program to calculate compound interest\n",
    "principal = float(input(\"Enter the principal amount: \"))\n",
    "rate = float(input(\"Enter the annual interest rate (in decimal): \"))\n",
    "n = int(input(\"Enter the number of times interest is compounded per year: \"))\n",
    "time = float(input(\"Enter the time in years: \"))\n",
    "compound_interest = principal * (1 + rate / n) ** (n * time)\n",
    "print(\"The compound interest is:\", compound_interest)\n"
   ]
  },
  {
   "cell_type": "markdown",
   "id": "426fa69a",
   "metadata": {},
   "source": [
    "## Perimeter of a Triangle"
   ]
  },
  {
   "cell_type": "code",
   "execution_count": null,
   "id": "391156fa",
   "metadata": {},
   "outputs": [],
   "source": [
    "\n",
    "# Program to calculate the perimeter of a triangle\n",
    "a = float(input(\"Enter the length of side a: \"))\n",
    "b = float(input(\"Enter the length of side b: \"))\n",
    "c = float(input(\"Enter the length of side c: \"))\n",
    "perimeter = a + b + c\n",
    "print(\"The perimeter of the triangle is:\", perimeter)\n"
   ]
  },
  {
   "cell_type": "markdown",
   "id": "8fb0d383",
   "metadata": {},
   "source": [
    "## Volume of a Sphere"
   ]
  },
  {
   "cell_type": "code",
   "execution_count": null,
   "id": "b2a55557",
   "metadata": {},
   "outputs": [],
   "source": [
    "\n",
    "# Program to calculate the volume of a sphere\n",
    "import math\n",
    "radius = float(input(\"Enter the radius of the sphere: \"))\n",
    "volume = (4/3) * math.pi * (radius ** 3)\n",
    "print(\"The volume of the sphere is:\", volume)\n"
   ]
  },
  {
   "cell_type": "markdown",
   "id": "1857bb37",
   "metadata": {},
   "source": [
    "## Kinetic Energy"
   ]
  },
  {
   "cell_type": "code",
   "execution_count": null,
   "id": "9922afbb",
   "metadata": {},
   "outputs": [],
   "source": [
    "\n",
    "# Program to calculate the kinetic energy of an object\n",
    "mass = float(input(\"Enter the mass of the object (in kilograms): \"))\n",
    "velocity = float(input(\"Enter the velocity of the object (in meters/second): \"))\n",
    "kinetic_energy = 0.5 * mass * (velocity ** 2)\n",
    "print(\"The kinetic energy of the object is:\", kinetic_energy, \"Joules\")\n"
   ]
  },
  {
   "cell_type": "markdown",
   "id": "0fb3e654",
   "metadata": {},
   "source": [
    "## Quadratic Equation Roots"
   ]
  },
  {
   "cell_type": "code",
   "execution_count": null,
   "id": "d79a290b",
   "metadata": {},
   "outputs": [],
   "source": [
    "\n",
    "# Program to find the roots of a quadratic equation\n",
    "import cmath\n",
    "a = float(input(\"Enter the coefficient a: \"))\n",
    "b = float(input(\"Enter the coefficient b: \"))\n",
    "c = float(input(\"Enter the constant c: \"))\n",
    "discriminant = cmath.sqrt(b**2 - 4*a*c)\n",
    "root1 = (-b + discriminant) / (2 * a)\n",
    "root2 = (-b - discriminant) / (2 * a)\n",
    "print(\"The roots of the quadratic equation are:\", root1, \"and\", root2)\n"
   ]
  },
  {
   "cell_type": "markdown",
   "id": "ad932d3a",
   "metadata": {},
   "source": [
    "## Temperature Conversion"
   ]
  },
  {
   "cell_type": "code",
   "execution_count": null,
   "id": "b2eeded3",
   "metadata": {},
   "outputs": [],
   "source": [
    "\n",
    "# Program to convert temperature from Celsius to Fahrenheit\n",
    "celsius = float(input(\"Enter the temperature in Celsius: \"))\n",
    "fahrenheit = (celsius * 9/5) + 32\n",
    "print(\"The temperature in Fahrenheit is:\", fahrenheit)\n"
   ]
  },
  {
   "cell_type": "markdown",
   "id": "27b05cc6",
   "metadata": {},
   "source": [
    "## Gravitational Force"
   ]
  },
  {
   "cell_type": "code",
   "execution_count": null,
   "id": "7d90d846",
   "metadata": {},
   "outputs": [],
   "source": [
    "\n",
    "# Program to calculate gravitational force between two objects\n",
    "G = 6.67430e-11  # Gravitational constant in N·m²/kg²\n",
    "mass1 = float(input(\"Enter the mass of the first object (in kilograms): \"))\n",
    "mass2 = float(input(\"Enter the mass of the second object (in kilograms): \"))\n",
    "distance = float(input(\"Enter the distance between the objects (in meters): \"))\n",
    "force = G * (mass1 * mass2) / (distance ** 2)\n",
    "print(\"The gravitational force between the objects is:\", force, \"Newtons\")\n"
   ]
  },
  {
   "cell_type": "markdown",
   "id": "c803be98",
   "metadata": {},
   "source": [
    "## Volume of a Cylinder"
   ]
  },
  {
   "cell_type": "code",
   "execution_count": null,
   "id": "018f8683",
   "metadata": {},
   "outputs": [],
   "source": [
    "\n",
    "# Program to calculate the volume of a cylinder\n",
    "import math\n",
    "radius = float(input(\"Enter the radius of the cylinder: \"))\n",
    "height = float(input(\"Enter the height of the cylinder: \"))\n",
    "volume = math.pi * (radius ** 2) * height\n",
    "print(\"The volume of the cylinder is:\", volume)\n"
   ]
  },
  {
   "cell_type": "markdown",
   "id": "48f86cff",
   "metadata": {},
   "source": [
    "## Pressure"
   ]
  },
  {
   "cell_type": "code",
   "execution_count": null,
   "id": "df3ce8bf",
   "metadata": {},
   "outputs": [],
   "source": [
    "\n",
    "# Program to calculate pressure exerted by a force on a surface\n",
    "force = float(input(\"Enter the force applied (in Newtons): \"))\n",
    "area = float(input(\"Enter the area of the surface (in square meters): \"))\n",
    "pressure = force / area\n",
    "print(\"The pressure exerted is:\", pressure, \"Pascals\")\n"
   ]
  },
  {
   "cell_type": "markdown",
   "id": "3ff5b9f7",
   "metadata": {},
   "source": [
    "## Electric Power"
   ]
  },
  {
   "cell_type": "code",
   "execution_count": null,
   "id": "af43faae",
   "metadata": {},
   "outputs": [],
   "source": [
    "\n",
    "# Program to calculate electric power consumed\n",
    "voltage = float(input(\"Enter the voltage (in volts): \"))\n",
    "current = float(input(\"Enter the current (in amperes): \"))\n",
    "power = voltage * current\n",
    "print(\"The electric power consumed is:\", power, \"Watts\")\n"
   ]
  },
  {
   "cell_type": "markdown",
   "id": "dda4e246",
   "metadata": {},
   "source": [
    "## Perimeter of a Circle (Circumference)"
   ]
  },
  {
   "cell_type": "code",
   "execution_count": null,
   "id": "00b15ca8",
   "metadata": {},
   "outputs": [],
   "source": [
    "\n",
    "# Program to calculate the perimeter (circumference) of a circle\n",
    "import math\n",
    "radius = float(input(\"Enter the radius of the circle: \"))\n",
    "circumference = 2 * math.pi * radius\n",
    "print(\"The perimeter (circumference) of the circle is:\", circumference)\n"
   ]
  },
  {
   "cell_type": "markdown",
   "id": "65eb4647",
   "metadata": {},
   "source": [
    "## Future Value in Savings"
   ]
  },
  {
   "cell_type": "code",
   "execution_count": null,
   "id": "345fb262",
   "metadata": {},
   "outputs": [],
   "source": [
    "\n",
    "# Program to calculate the future value of an investment\n",
    "present_value = float(input(\"Enter the present value of the investment: \"))\n",
    "rate = float(input(\"Enter the annual interest rate (in decimal): \"))\n",
    "time = float(input(\"Enter the time in years: \"))\n",
    "future_value = present_value * (1 + rate) ** time\n",
    "print(\"The future value of the investment is:\", future_value)\n"
   ]
  },
  {
   "cell_type": "markdown",
   "id": "f6adfaad",
   "metadata": {},
   "source": [
    "## Work Done by a Force"
   ]
  },
  {
   "cell_type": "code",
   "execution_count": null,
   "id": "d64d9010",
   "metadata": {},
   "outputs": [],
   "source": [
    "\n",
    "# Program to calculate work done by a force\n",
    "import math\n",
    "force = float(input(\"Enter the force applied (in Newtons): \"))\n",
    "distance = float(input(\"Enter the distance moved (in meters): \"))\n",
    "angle = float(input(\"Enter the angle between force and movement direction (in degrees): \"))\n",
    "work_done = force * distance * math.cos(math.radians(angle))\n",
    "print(\"The work done by the force is:\", work_done, \"Joules\")\n"
   ]
  },
  {
   "cell_type": "markdown",
   "id": "0422e457",
   "metadata": {},
   "source": [
    "## Heat Transfer"
   ]
  },
  {
   "cell_type": "code",
   "execution_count": null,
   "id": "c77961e5",
   "metadata": {},
   "outputs": [],
   "source": [
    "\n",
    "# Program to calculate the amount of heat transferred\n",
    "mass = float(input(\"Enter the mass of the substance (in kilograms): \"))\n",
    "specific_heat = float(input(\"Enter the specific heat capacity (in J/kg°C): \"))\n",
    "temperature_change = float(input(\"Enter the temperature change (in °C): \"))\n",
    "heat_transfer = mass * specific_heat * temperature_change\n",
    "print(\"The amount of heat transferred is:\", heat_transfer, \"Joules\")\n"
   ]
  }
 ],
 "metadata": {},
 "nbformat": 4,
 "nbformat_minor": 5
}
